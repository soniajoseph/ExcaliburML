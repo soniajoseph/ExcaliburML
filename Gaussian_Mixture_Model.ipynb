{
  "nbformat": 4,
  "nbformat_minor": 0,
  "metadata": {
    "colab": {
      "name": "Gaussian Mixture Model.ipynb",
      "provenance": [],
      "collapsed_sections": [],
      "authorship_tag": "ABX9TyOIA4b6JgDBzhtrT0ZaAUYm",
      "include_colab_link": true
    },
    "kernelspec": {
      "name": "python3",
      "display_name": "Python 3"
    }
  },
  "cells": [
    {
      "cell_type": "markdown",
      "metadata": {
        "id": "view-in-github",
        "colab_type": "text"
      },
      "source": [
        "<a href=\"https://colab.research.google.com/github/soniajoseph/ExcaliburML/blob/master/Gaussian_Mixture_Model.ipynb\" target=\"_parent\"><img src=\"https://colab.research.google.com/assets/colab-badge.svg\" alt=\"Open In Colab\"/></a>"
      ]
    },
    {
      "cell_type": "code",
      "metadata": {
        "id": "iQvPc8CpbxzD",
        "colab_type": "code",
        "colab": {}
      },
      "source": [
        "import numpy as np  \n",
        "from scipy.stats import multivariate_normal"
      ],
      "execution_count": 0,
      "outputs": []
    },
    {
      "cell_type": "code",
      "metadata": {
        "id": "kIZG0cncBdqC",
        "colab_type": "code",
        "colab": {}
      },
      "source": [
        "class GMM():\n",
        "  def __init__(self, k, iterations=1000):\n",
        "    self.k = k\n",
        "    self.iterations = iterations\n",
        "    self.phi_history = []\n",
        "  \n",
        "  def initialize(self):\n",
        "    self.m, self.n = self.X.shape\n",
        "    # Initialize means as random X values\n",
        "    random_num = np.random.randint(0, high=self.m, size=self.k)\n",
        "    self.means = np.asarray([self.X[i,:] for i in random_num])\n",
        "    # Initialize covariances \n",
        "    self.sigma = [np.cov(self.X.T) for _ in range(self.k)]\n",
        "    self.weights = np.full((self.m, k), fill_value=1/k)\n",
        "    self.phi = np.full((self.m, k), fill_value=1/k)\n",
        "\n",
        "  def expectation(self):\n",
        "    # Hold mean and variance fixed. Calculate weights of each data point.\n",
        "    probs = np.zeros((self.m, k))\n",
        "    for i in range(self.k):\n",
        "      mv = multivariate_normal(mean=self.means[i], cov=self.sigma[i])\n",
        "      probs[:,i] = mv.pdf(self.X)\n",
        "    n = probs * self.phi\n",
        "    self.weights = n / np.sum(n, axis=1).reshape(-1,1)\n",
        "    # Calculate weight of each Gaussian.\n",
        "    self.phi = np.mean(self.weights, axis=0)\n",
        "    self.phi_history.append(self.phi)\n",
        "\n",
        "  def maximization(self):\n",
        "    # Hold weights and phi fixed. Calculate mean and variance.\n",
        "    for i in range(self.k):\n",
        "      # Calculate mean\n",
        "      self.means[i] = (self.weights[:,i].reshape(-1,1).T @ self.X) / self.m \n",
        "      aweights = (self.weights[:,i]/np.sum(self.weights[:,i], axis=0)).flatten() # get probabilities of weights\n",
        "      \n",
        "      # Calculate covariance\n",
        "      x = self.X - self.means[i, :] # (N x d)\n",
        "      x_mu = np.matrix(x)\n",
        "      gamma_diag = np.matrix(np.diag(self.weights[:,i]))\n",
        "      sigma_i = x.T * gamma_diag * x\n",
        "      self.sigma[i]=(sigma_i) / np.sum(self.weights, axis = 0)[:,np.newaxis][i]\n",
        "  \n",
        "  def fit(self, X):\n",
        "    self.X = X\n",
        "    self.initialize()\n",
        "    for i in range(self.iterations):\n",
        "      self.expectation()\n",
        "      self.maximization()\n",
        "\n",
        "  def predict(self, Xtest):\n",
        "    p = np.ones((Xtest.shape[0],k))\n",
        "    yhat = []\n",
        "    for i in range(k):\n",
        "      p[:,i] = multivariate_normal(self.means[i], self.sigma[i]).pdf(Xtest) * self.phi[i]\n",
        "    yhat.append(np.argmax(p,axis=1))\n",
        "    return yhat[0]\n",
        "\n",
        "  def accuracy(self, yhat, Ytest):\n",
        "    return (yhat == Ytest).sum() / len(yhat)\n"
      ],
      "execution_count": 0,
      "outputs": []
    },
    {
      "cell_type": "code",
      "metadata": {
        "id": "GsP9sWo_ewI2",
        "colab_type": "code",
        "colab": {}
      },
      "source": [
        "from sklearn import datasets\n",
        "from sklearn.model_selection import train_test_split\n",
        "from sklearn import preprocessing\n",
        "import matplotlib.pyplot as plt"
      ],
      "execution_count": 0,
      "outputs": []
    },
    {
      "cell_type": "code",
      "metadata": {
        "id": "kcsw9JPJnG0-",
        "colab_type": "code",
        "colab": {}
      },
      "source": [
        "iris = datasets.load_iris()\n",
        "X = iris.data\n",
        "Y = iris.target \n",
        "X = preprocessing.scale(X)"
      ],
      "execution_count": 0,
      "outputs": []
    }
  ]
}