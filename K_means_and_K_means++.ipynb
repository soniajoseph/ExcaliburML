{
  "nbformat": 4,
  "nbformat_minor": 0,
  "metadata": {
    "colab": {
      "name": "K-means and K-means++.ipynb",
      "provenance": [],
      "collapsed_sections": [],
      "authorship_tag": "ABX9TyMVlQDcXTM53+Z4cSLCPvPV",
      "include_colab_link": true
    },
    "kernelspec": {
      "name": "python3",
      "display_name": "Python 3"
    }
  },
  "cells": [
    {
      "cell_type": "markdown",
      "metadata": {
        "id": "view-in-github",
        "colab_type": "text"
      },
      "source": [
        "<a href=\"https://colab.research.google.com/github/soniajoseph/ExcaliburML/blob/master/K_means_and_K_means%2B%2B.ipynb\" target=\"_parent\"><img src=\"https://colab.research.google.com/assets/colab-badge.svg\" alt=\"Open In Colab\"/></a>"
      ]
    },
    {
      "cell_type": "code",
      "metadata": {
        "id": "i4AHkMEe-W6Z",
        "colab_type": "code",
        "colab": {}
      },
      "source": [
        "import matplotlib.pyplot as plt\n",
        "import numpy as np"
      ],
      "execution_count": 0,
      "outputs": []
    },
    {
      "cell_type": "code",
      "metadata": {
        "id": "UVcyY5qvJ61e",
        "colab_type": "code",
        "colab": {}
      },
      "source": [
        "def kmeans(Xtrain, k=2, iterations = 100, kplus=False):\n",
        "\n",
        "  # Initalize means\n",
        "\n",
        "  # Set parameters\n",
        "  f_max = np.amax(Xtrain, axis=0)\n",
        "  f_min = np.amin(Xtrain, axis=0)  \n",
        "\n",
        "  # Use vanilla initialization\n",
        "  if kplus==False:\n",
        "    means = np.random.uniform(f_min, f_max, (k,Xtrain.shape[1]))\n",
        "  # Use Kmeans++ initialization\n",
        "  else:\n",
        "    # Choose one mean randomly\n",
        "    means = np.random.uniform(f_min, f_max, (1,Xtrain.shape[1]))\n",
        "    # Choose rest of means iteratively\n",
        "    for i in range(1, k, 1):\n",
        "      distances = []\n",
        "      # For every training sample\n",
        "      for x in Xtrain:\n",
        "        # Find furthest mean \n",
        "        total_distance = 0\n",
        "        for m in means:\n",
        "          total_distance += np.linalg.norm(x - m)\n",
        "        distances.append(total_distance)\n",
        "      # Sample new mean from weighted distribution\n",
        "      prob = np.square(distances) / np.sum(np.square(distances))\n",
        "      new_mean_idx = np.random.choice(len(Xtrain), p=prob)\n",
        "      means = np.vstack((means,Xtrain[new_mean_idx,:]))\n",
        "\n",
        "  # Iterate through dataset \n",
        "  for i in range(iterations):\n",
        "    y_hat = []\n",
        "    # calculate shortest distance\n",
        "    for x in Xtrain:\n",
        "      min_dist = float('inf')\n",
        "      min_idx = -1\n",
        "      for idx in range(means.shape[0]):\n",
        "        dist = np.linalg.norm(x - means[idx,:])\n",
        "        if dist < min_dist:\n",
        "          min_dist = dist\n",
        "          min_idx = idx\n",
        "      y_hat.append(min_idx)\n",
        "    # recompute means\n",
        "    y_hat = np.asarray(y_hat)\n",
        "    for idx in range(means.shape[0]):\n",
        "      means[idx,:] = Xtrain[np.argwhere(y_hat==idx)].mean()\n",
        "  return y_hat"
      ],
      "execution_count": 0,
      "outputs": []
    },
    {
      "cell_type": "code",
      "metadata": {
        "id": "N6yFb1UgISjf",
        "colab_type": "code",
        "colab": {}
      },
      "source": [
        "from sklearn import datasets\n",
        "from sklearn.model_selection import train_test_split\n",
        "from sklearn import preprocessing"
      ],
      "execution_count": 0,
      "outputs": []
    },
    {
      "cell_type": "code",
      "metadata": {
        "id": "Vx0gKNevIaW5",
        "colab_type": "code",
        "outputId": "5128bd9c-9ec5-4fc8-ee95-72f9ff731cb6",
        "colab": {
          "base_uri": "https://localhost:8080/",
          "height": 282
        }
      },
      "source": [
        "iris = datasets.load_iris()\n",
        "X = iris.data[:,:2]\n",
        "Y = iris.target\n",
        "X = preprocessing.scale(X)\n",
        "plt.scatter(X[:,0], X[:,1])"
      ],
      "execution_count": 37,
      "outputs": [
        {
          "output_type": "execute_result",
          "data": {
            "text/plain": [
              "<matplotlib.collections.PathCollection at 0x7faf5380d710>"
            ]
          },
          "metadata": {
            "tags": []
          },
          "execution_count": 37
        },
        {
          "output_type": "display_data",
          "data": {
            "image/png": "[encoded data removed]",
            "text/plain": [
              "<Figure size 432x288 with 1 Axes>"
            ]
          },
          "metadata": {
            "tags": []
          }
        }
      ]
    },
    {
      "cell_type": "code",
      "metadata": {
        "id": "ZZCkAt0mJUGq",
        "colab_type": "code",
        "outputId": "1d8e7662-c13d-4a5d-b6f6-88dc5c711f5d",
        "colab": {
          "base_uri": "https://localhost:8080/",
          "height": 530
        }
      },
      "source": [
        "k_set = 2\n",
        "# K-means++ \n",
        "y = kmeans(X, k = k_set, iterations=20, kplus=True)\n",
        "for i in range(k_set):\n",
        "  plt.scatter(X[np.argwhere(y==i),0], X[np.argwhere(y==i),1], label=i)\n",
        "plt.legend()\n",
        "\n",
        "# Vanilla k-means\n",
        "plt.figure()\n",
        "y = kmeans(X, k = k_set, iterations=20, kplus=False)\n",
        "for i in range(k_set):\n",
        "  plt.scatter(X[np.argwhere(y==i),0], X[np.argwhere(y==i),1], label=i)\n",
        "plt.legend()"
      ],
      "execution_count": 39,
      "outputs": [
        {
          "output_type": "execute_result",
          "data": {
            "text/plain": [
              "<matplotlib.legend.Legend at 0x7faf5378e080>"
            ]
          },
          "metadata": {
            "tags": []
          },
          "execution_count": 39
        },
        {
          "output_type": "display_data",
          "data": {
            "image/png": "[encoded data removed]",
            "text/plain": [
              "<Figure size 432x288 with 1 Axes>"
            ]
          },
          "metadata": {
            "tags": []
          }
        },
        {
          "output_type": "display_data",
          "data": {
            "image/png": "[encoded data removed]",
            "text/plain": [
              "<Figure size 432x288 with 1 Axes>"
            ]
          },
          "metadata": {
            "tags": []
          }
        }
      ]
    }
  ]
}