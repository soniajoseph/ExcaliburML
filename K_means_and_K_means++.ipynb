{
  "nbformat": 4,
  "nbformat_minor": 0,
  "metadata": {
    "colab": {
      "name": "K-means and K-means++.ipynb",
      "provenance": [],
      "authorship_tag": "ABX9TyPtHA5MmAXwKzZJ4WEnAwd3",
      "include_colab_link": true
    },
    "kernelspec": {
      "name": "python3",
      "display_name": "Python 3"
    }
  },
  "cells": [
    {
      "cell_type": "markdown",
      "metadata": {
        "id": "view-in-github",
        "colab_type": "text"
      },
      "source": [
        "<a href=\"https://colab.research.google.com/github/soniajoseph/ExcaliburML/blob/master/K_means_and_K_means%2B%2B.ipynb\" target=\"_parent\"><img src=\"https://colab.research.google.com/assets/colab-badge.svg\" alt=\"Open In Colab\"/></a>"
      ]
    },
    {
      "cell_type": "code",
      "metadata": {
        "id": "i4AHkMEe-W6Z",
        "colab_type": "code",
        "colab": {}
      },
      "source": [
        "import matplotlib.pyplot as plt\n",
        "import numpy as np"
      ],
      "execution_count": 0,
      "outputs": []
    },
    {
      "cell_type": "code",
      "metadata": {
        "id": "UVcyY5qvJ61e",
        "colab_type": "code",
        "colab": {}
      },
      "source": [
        "def kmeans(Xtrain, Ytrain, Xtest, Ytest, k=2, iterations = 100, kplus=False):\n",
        "\n",
        "  # Initalize means\n",
        "\n",
        "  # Set parameters\n",
        "  f_max = np.amax(Xtrain, axis=0)\n",
        "  f_min = np.amin(Xtrain, axis=0)  \n",
        "\n",
        "  # Use vanilla initialization\n",
        "  if kplus==False:\n",
        "    means = np.random.uniform(f_min, f_max, (k,Xtrain.shape[1]))\n",
        "\n",
        "  # Use Kmeans++ initialization\n",
        "  else:\n",
        "    # Choose one mean randomly\n",
        "    means = np.random.uniform(f_min, f_max, (1,Xtrain.shape[1]))\n",
        "    # Choose rest of means\n",
        "    for i in range(1, k, 1):\n",
        "      distances = []\n",
        "      # For every training sample\n",
        "      for x in Xtrain:\n",
        "        # Find closest mean \n",
        "        total_distance = 0\n",
        "        for m in means:\n",
        "          total_distance += np.linalg.norm(x - m)\n",
        "        distances.append(total_distance)\n",
        "      # Sample new mean from weighted distribution\n",
        "      prob = np.square(distances) / np.sum(np.square(distances))\n",
        "      new_mean_idx = np.random.choice(len(Xtrain), p=prob)\n",
        "      means = np.vstack((means,Xtrain[new_mean_idx,:]))\n",
        "\n",
        "  # Iterate through dataset \n",
        "  for i in range(iterations):\n",
        "    y_hat = []\n",
        "    # calculate shortest distance\n",
        "    for x in Xtrain:\n",
        "      min_dist = float('inf')\n",
        "      min_idx = -1\n",
        "      for idx in range(means.shape[0]):\n",
        "        dist = np.linalg.norm(x - means[idx,:])\n",
        "        if dist < min_dist:\n",
        "          min_dist = dist\n",
        "          min_idx = idx\n",
        "      y_hat.append(min_idx)\n",
        "    # recompute means\n",
        "    y_hat = np.asarray(y_hat)\n",
        "    for idx in range(means.shape[0]):\n",
        "      indices = np.argwhere(y_hat==idx)\n",
        "      means[idx,:] = Xtrain[indices].mean()\n",
        "  return y_hat"
      ],
      "execution_count": 0,
      "outputs": []
    },
    {
      "cell_type": "code",
      "metadata": {
        "id": "N6yFb1UgISjf",
        "colab_type": "code",
        "colab": {}
      },
      "source": [
        "from sklearn import datasets\n",
        "from sklearn.model_selection import train_test_split\n",
        "from sklearn import preprocessing"
      ],
      "execution_count": 0,
      "outputs": []
    },
    {
      "cell_type": "code",
      "metadata": {
        "id": "Vx0gKNevIaW5",
        "colab_type": "code",
        "colab": {
          "base_uri": "https://localhost:8080/",
          "height": 282
        },
        "outputId": "ad127bdd-8ff9-4166-e73e-e4da6b5fe4df"
      },
      "source": [
        "iris = datasets.load_iris()\n",
        "X = iris.data[:,:2]\n",
        "Y = iris.target\n",
        "X = preprocessing.scale(X)\n",
        "Xtrain, Xtest, Ytrain, Ytest = train_test_split(X, Y, test_size=0.33, random_state=42)\n",
        "plt.scatter(X[:,0], X[:,1])"
      ],
      "execution_count": 395,
      "outputs": [
        {
          "output_type": "execute_result",
          "data": {
            "text/plain": [
              "<matplotlib.collections.PathCollection at 0x7f939fdd9908>"
            ]
          },
          "metadata": {
            "tags": []
          },
          "execution_count": 395
        },
        {
          "output_type": "display_data",
          "data": {
            "image/png": "[encoded data removed]",
            "text/plain": [
              "<Figure size 432x288 with 1 Axes>"
            ]
          },
          "metadata": {
            "tags": []
          }
        }
      ]
    },
    {
      "cell_type": "code",
      "metadata": {
        "id": "ZZCkAt0mJUGq",
        "colab_type": "code",
        "colab": {
          "base_uri": "https://localhost:8080/",
          "height": 530
        },
        "outputId": "d98e73a3-3fdc-404f-eae4-f2f47af0c669"
      },
      "source": [
        "k_set = 2\n",
        "# K-means++ \n",
        "y = kmeans(Xtrain, Ytrain, Xtest, Ytest, k = k_set, iterations=20, kplus=True)\n",
        "for i in range(k_set):\n",
        "  plt.scatter(Xtrain[np.argwhere(y==i),0], Xtrain[np.argwhere(y==i),1], label=i)\n",
        "plt.legend()\n",
        "\n",
        "# Vanilla k-means\n",
        "plt.figure()\n",
        "y = kmeans(Xtrain, Ytrain, Xtest, Ytest, k = k_set, iterations=20, kplus=False)\n",
        "for i in range(k_set):\n",
        "  plt.scatter(Xtrain[np.argwhere(y==i),0], Xtrain[np.argwhere(y==i),1], label=i)\n",
        "plt.legend()"
      ],
      "execution_count": 403,
      "outputs": [
        {
          "output_type": "execute_result",
          "data": {
            "text/plain": [
              "<matplotlib.legend.Legend at 0x7f939fa44c88>"
            ]
          },
          "metadata": {
            "tags": []
          },
          "execution_count": 403
        },
        {
          "output_type": "display_data",
          "data": {
            "image/png": "[encoded data removed]",
            "text/plain": [
              "<Figure size 432x288 with 1 Axes>"
            ]
          },
          "metadata": {
            "tags": []
          }
        },
        {
          "output_type": "display_data",
          "data": {
            "image/png": "[encoded data removed]",
            "text/plain": [
              "<Figure size 432x288 with 1 Axes>"
            ]
          },
          "metadata": {
            "tags": []
          }
        }
      ]
    },
    {
      "cell_type": "code",
      "metadata": {
        "id": "n1ypy2cApacp",
        "colab_type": "code",
        "colab": {}
      },
      "source": [
        ""
      ],
      "execution_count": 0,
      "outputs": []
    }
  ]
}