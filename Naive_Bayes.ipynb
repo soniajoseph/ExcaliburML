{
  "nbformat": 4,
  "nbformat_minor": 0,
  "metadata": {
    "colab": {
      "name": "Naive Bayes.ipynb",
      "provenance": [],
      "authorship_tag": "ABX9TyOT2gkv+3Sm1niNh642+IeX",
      "include_colab_link": true
    },
    "kernelspec": {
      "name": "python3",
      "display_name": "Python 3"
    }
  },
  "cells": [
    {
      "cell_type": "markdown",
      "metadata": {
        "id": "view-in-github",
        "colab_type": "text"
      },
      "source": [
        "<a href=\"https://colab.research.google.com/github/soniajoseph/ExcaliburML/blob/master/Naive_Bayes.ipynb\" target=\"_parent\"><img src=\"https://colab.research.google.com/assets/colab-badge.svg\" alt=\"Open In Colab\"/></a>"
      ]
    },
    {
      "cell_type": "code",
      "metadata": {
        "id": "GDeG6iEzs_77",
        "colab_type": "code",
        "colab": {}
      },
      "source": [
        "import numpy as np\n",
        "import matplotlib.pyplot as plt"
      ],
      "execution_count": 0,
      "outputs": []
    },
    {
      "cell_type": "code",
      "metadata": {
        "id": "7SLCm8gXtCL2",
        "colab_type": "code",
        "colab": {}
      },
      "source": [
        "class Naive_Bayes():\n",
        "  def __init__(self):\n",
        "    self.p_classes = []\n",
        "    self.stats = []\n",
        "    self.yhat = []\n",
        "\n",
        "  # Calculate multivariate gaussian\n",
        "  # Assume covariance is one\n",
        "  def _gaussian(self, x, mean):\n",
        "    p = np.exp(-1/2*(x-mean).reshape(1,-1)@(x-mean).reshape(-1,1)) / np.sqrt((2*np.pi)**x.shape[0])\n",
        "    return p[0]                                    \n",
        "\n",
        "  def fit(self, Xtrain, Ytrain):\n",
        "    self.p_classes = []\n",
        "    self.stats = []\n",
        "    for i in np.unique(Ytrain):\n",
        "      # Get probabilities of each class for p(class)\n",
        "      data = Xtrain[np.where(Ytrain==i)[0]]\n",
        "      prob = len(data) / len(Ytrain)\n",
        "      self.p_classes.append(prob)\n",
        "      # Get statistics of each class for p(data|class))\n",
        "      self.stats.append(np.mean(data, axis=0))\n",
        "  \n",
        "  def predict(self, Xtest):\n",
        "    self.yhat = []\n",
        "    for x in Xtest:\n",
        "      probs = []\n",
        "      # Calculate probability of each class with Bayes\n",
        "      for idx, i in enumerate(self.stats):\n",
        "        p = self._gaussian(x,i) * self.p_classes[idx] # p(data|class) * p(class)\n",
        "        probs.append(p)\n",
        "      # Classify based on maximum probability\n",
        "      self.yhat.append(np.argmax(probs))\n",
        "    return self.yhat\n",
        "\n",
        "  def accuracy(self, Ytest):\n",
        "    return sum(Ytest.flatten() == self.yhat) / len(Ytest)"
      ],
      "execution_count": 0,
      "outputs": []
    },
    {
      "cell_type": "code",
      "metadata": {
        "id": "yb_uFGnJq3Fs",
        "colab_type": "code",
        "colab": {}
      },
      "source": [
        "import sklearn\n",
        "from sklearn import datasets\n",
        "from sklearn.model_selection import train_test_split\n",
        "\n",
        "iris = sklearn.datasets.load_iris()\n",
        "X = iris.data\n",
        "y = iris.target\n",
        "y = y.reshape(-1,1)\n",
        "\n",
        "Xtrain, Xtest, Ytrain, Ytest = train_test_split(X, y, test_size=0.33)"
      ],
      "execution_count": 0,
      "outputs": []
    },
    {
      "cell_type": "code",
      "metadata": {
        "id": "5y6A8b4sH1Oz",
        "colab_type": "code",
        "colab": {
          "base_uri": "https://localhost:8080/",
          "height": 34
        },
        "outputId": "7b653b70-5d6a-4890-ce5d-e17d638cf147"
      },
      "source": [
        "nb = Naive_Bayes()\n",
        "nb.fit(Xtrain, Ytrain)\n",
        "nb.predict(Xtest)\n",
        "nb.accuracy(Ytest)"
      ],
      "execution_count": 277,
      "outputs": [
        {
          "output_type": "execute_result",
          "data": {
            "text/plain": [
              "0.96"
            ]
          },
          "metadata": {
            "tags": []
          },
          "execution_count": 277
        }
      ]
    }
  ]
}