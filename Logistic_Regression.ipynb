{
  "nbformat": 4,
  "nbformat_minor": 0,
  "metadata": {
    "colab": {
      "name": "Logistic Regression.ipynb",
      "provenance": [],
      "toc_visible": true,
      "authorship_tag": "ABX9TyMRbw184N+HACfttOLcd1Pq",
      "include_colab_link": true
    },
    "kernelspec": {
      "name": "python3",
      "display_name": "Python 3"
    }
  },
  "cells": [
    {
      "cell_type": "markdown",
      "metadata": {
        "id": "view-in-github",
        "colab_type": "text"
      },
      "source": [
        "<a href=\"https://colab.research.google.com/github/soniajoseph/ExcaliburML/blob/master/Logistic_Regression.ipynb\" target=\"_parent\"><img src=\"https://colab.research.google.com/assets/colab-badge.svg\" alt=\"Open In Colab\"/></a>"
      ]
    },
    {
      "cell_type": "code",
      "metadata": {
        "id": "Fd-vrpm0BMe7",
        "colab_type": "code",
        "colab": {}
      },
      "source": [
        "import numpy as np\n",
        "import pandas as pd\n",
        "import matplotlib.pyplot as plt\n",
        "import numpy as np"
      ],
      "execution_count": 0,
      "outputs": []
    },
    {
      "cell_type": "code",
      "metadata": {
        "id": "ptyobp5fFtgo",
        "colab_type": "code",
        "colab": {}
      },
      "source": [
        "# Sigmoid function\n",
        "def sigmoid(z):\n",
        "  return 1 / (1+np.exp(-z))\n",
        "\n",
        "# Cost function\n",
        "def cost(theta, pred, Y):\n",
        "  error = (-Y * np.log(pred)) - ((1-Y)*np.log(1-pred))\n",
        "  return 1/len(Y) * sum(error)\n",
        "\n",
        "def logistic_regression_fit(Xtrain, Ytrain, alpha=.0001, iterations=1000, verbose=True):\n",
        "  # Add bias\n",
        "  Xtrain = np.hstack((np.ones((Xtrain.shape[0],1)), Xtrain))\n",
        "  m = len(Ytrain)\n",
        "\n",
        "  # Initialize weights\n",
        "  theta = .1 * np.ones((Xtrain.shape[1],1))\n",
        "\n",
        "  cost_history = []\n",
        "  for i in range(iterations):\n",
        "    if verbose and i % 50 == 0:\n",
        "      print(\"On interation \", i)\n",
        "    # Compute sigmoid\n",
        "    sig = sigmoid(Xtrain@theta)\n",
        "    c = cost(theta, sig, Ytrain)\n",
        "    cost_history.append(c)\n",
        "    # Calculate gradient\n",
        "    grad = (1/m) * Xtrain.T @ (sig - Ytrain)\n",
        "    # Update weights\n",
        "    theta -= alpha * grad\n",
        "  return theta, cost_history\n",
        "\n",
        "def logistic_regression_predict(weights, Xtest,threshold=0.5):\n",
        "  # Add bias\n",
        "  Xtest = np.hstack((np.ones((Xtest.shape[0], 1)), Xtest))\n",
        "  prob = sigmoid(Xtest@weights)\n",
        "  return prob \n",
        "\n",
        "def logistic_regression_accuracy(prob, y, threshold=.5):\n",
        "  corr = prob > threshold\n",
        "  return sum(corr==y)/len(y)\n"
      ],
      "execution_count": 0,
      "outputs": []
    },
    {
      "cell_type": "code",
      "metadata": {
        "id": "PMHF0H9oKSxN",
        "colab_type": "code",
        "colab": {}
      },
      "source": [
        "df = pd.read_csv(\"sample_data/mnist_train_small.csv\")"
      ],
      "execution_count": 0,
      "outputs": []
    },
    {
      "cell_type": "code",
      "metadata": {
        "id": "vkCHP36l1XGX",
        "colab_type": "code",
        "outputId": "f26591b4-c209-4c3e-ef97-bbb2f447b7e3",
        "colab": {
          "base_uri": "https://localhost:8080/",
          "height": 282
        }
      },
      "source": [
        "import sklearn\n",
        "from sklearn import datasets\n",
        "from sklearn.model_selection import train_test_split\n",
        "\n",
        "iris = sklearn.datasets.load_iris()\n",
        "X = iris.data[:, :2]\n",
        "y = (iris.target != 0) * 1\n",
        "y = y.reshape(-1,1)\n",
        "\n",
        "Xtrain, Xtest, Ytrain, Ytest = train_test_split(X, y, test_size=0.33, random_state=42)\n",
        "\n",
        "plt.scatter(Xtrain[:,0], Xtrain[:,1])\n",
        "plt.scatter(Xtest[:,0], Xtest[:,1])"
      ],
      "execution_count": 0,
      "outputs": [
        {
          "output_type": "execute_result",
          "data": {
            "text/plain": [
              "<matplotlib.collections.PathCollection at 0x7ff4f8acc470>"
            ]
          },
          "metadata": {
            "tags": []
          },
          "execution_count": 5
        },
        {
          "output_type": "display_data",
          "data": {
            "image/png": "[encoded data removed]",
            "text/plain": [
              "<Figure size 432x288 with 1 Axes>"
            ]
          },
          "metadata": {
            "tags": []
          }
        }
      ]
    },
    {
      "cell_type": "code",
      "metadata": {
        "id": "J111oJLf4Z-s",
        "colab_type": "code",
        "outputId": "29a0e990-deb6-4172-f03c-989ead7b7202",
        "colab": {
          "base_uri": "https://localhost:8080/",
          "height": 1000
        }
      },
      "source": [
        "w, cost_history = logistic_regression_fit(Xtrain, Ytrain, alpha=.01, iterations=2500)\n",
        "plt.plot(cost_history)"
      ],
      "execution_count": 7,
      "outputs": [
        {
          "output_type": "stream",
          "text": [
            "On interation  0\n",
            "On interation  50\n",
            "On interation  100\n",
            "On interation  150\n",
            "On interation  200\n",
            "On interation  250\n",
            "On interation  300\n",
            "On interation  350\n",
            "On interation  400\n",
            "On interation  450\n",
            "On interation  500\n",
            "On interation  550\n",
            "On interation  600\n",
            "On interation  650\n",
            "On interation  700\n",
            "On interation  750\n",
            "On interation  800\n",
            "On interation  850\n",
            "On interation  900\n",
            "On interation  950\n",
            "On interation  1000\n",
            "On interation  1050\n",
            "On interation  1100\n",
            "On interation  1150\n",
            "On interation  1200\n",
            "On interation  1250\n",
            "On interation  1300\n",
            "On interation  1350\n",
            "On interation  1400\n",
            "On interation  1450\n",
            "On interation  1500\n",
            "On interation  1550\n",
            "On interation  1600\n",
            "On interation  1650\n",
            "On interation  1700\n",
            "On interation  1750\n",
            "On interation  1800\n",
            "On interation  1850\n",
            "On interation  1900\n",
            "On interation  1950\n",
            "On interation  2000\n",
            "On interation  2050\n",
            "On interation  2100\n",
            "On interation  2150\n",
            "On interation  2200\n",
            "On interation  2250\n",
            "On interation  2300\n",
            "On interation  2350\n",
            "On interation  2400\n",
            "On interation  2450\n"
          ],
          "name": "stdout"
        },
        {
          "output_type": "execute_result",
          "data": {
            "text/plain": [
              "[<matplotlib.lines.Line2D at 0x7ff4f5d9add8>]"
            ]
          },
          "metadata": {
            "tags": []
          },
          "execution_count": 7
        },
        {
          "output_type": "display_data",
          "data": {
            "image/png": "[encoded data removed]",
            "text/plain": [
              "<Figure size 432x288 with 1 Axes>"
            ]
          },
          "metadata": {
            "tags": []
          }
        }
      ]
    },
    {
      "cell_type": "code",
      "metadata": {
        "id": "ekZwakrhCqUD",
        "colab_type": "code",
        "outputId": "5be03266-845b-4f04-ae03-c17942173987",
        "colab": {
          "base_uri": "https://localhost:8080/",
          "height": 34
        }
      },
      "source": [
        "prob = logistic_regression_predict(w, Xtest)\n",
        "acc = logistic_regression_accuracy(prob, Ytest)\n",
        "print(acc)"
      ],
      "execution_count": 0,
      "outputs": [
        {
          "output_type": "stream",
          "text": [
            "[1.]\n"
          ],
          "name": "stdout"
        }
      ]
    }
  ]
}