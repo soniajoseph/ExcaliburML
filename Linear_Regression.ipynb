{
  "nbformat": 4,
  "nbformat_minor": 0,
  "metadata": {
    "colab": {
      "name": "Linear Regression.ipynb",
      "provenance": [],
      "authorship_tag": "ABX9TyNeOV8OQZThmveztwkJ3GA8",
      "include_colab_link": true
    },
    "kernelspec": {
      "name": "python3",
      "display_name": "Python 3"
    }
  },
  "cells": [
    {
      "cell_type": "markdown",
      "metadata": {
        "id": "view-in-github",
        "colab_type": "text"
      },
      "source": [
        "<a href=\"https://colab.research.google.com/github/soniajoseph/ExcaliburML/blob/master/Linear_Regression.ipynb\" target=\"_parent\"><img src=\"https://colab.research.google.com/assets/colab-badge.svg\" alt=\"Open In Colab\"/></a>"
      ]
    },
    {
      "cell_type": "code",
      "metadata": {
        "id": "whEqoi1RSSDg",
        "colab_type": "code",
        "colab": {}
      },
      "source": [
        "import pandas as pd\n",
        "import numpy as np\n",
        "import matplotlib.pyplot as plt"
      ],
      "execution_count": 0,
      "outputs": []
    },
    {
      "cell_type": "code",
      "metadata": {
        "id": "59iWq9yhbOVm",
        "colab_type": "code",
        "colab": {}
      },
      "source": [
        "def linear_regression_fit(Xtrain, Ytrain, alpha = np.exp(-20), iterations = 1000):\n",
        "  # initialize weights\n",
        "  theta = np.ones((2,1))\n",
        "  # add bias\n",
        "  x_b = np.column_stack((np.ones((Xtrain.shape[0],1)), Xtrain)) \n",
        "  for i in range(iterations):\n",
        "    # predict\n",
        "    y_hat = x_b @ theta\n",
        "    # update theta with cost function derivative \n",
        "    theta = theta -  alpha * 1 / len(y_hat) * x_b.T.dot((y_hat - Ytrain))\n",
        "  return theta\n",
        "\n",
        "def linear_regression_predict(Xtest,theta):\n",
        "  Xtest = np.hstack((np.ones((Xtest.shape[0],1)),Xtest))\n",
        "  w = Xtest@theta\n",
        "  return w"
      ],
      "execution_count": 0,
      "outputs": []
    },
    {
      "cell_type": "code",
      "metadata": {
        "id": "hHpR0AHzbPhv",
        "colab_type": "code",
        "outputId": "7b867d00-6504-47a7-ee02-e77e257480ff",
        "colab": {
          "base_uri": "https://localhost:8080/",
          "height": 282
        }
      },
      "source": [
        "# Dataset 1 - Synthetic Data w/ Noise\n",
        "\n",
        "# Train\n",
        "Xtrain_1 = np.linspace(0, 1000, 100)\n",
        "noise = np.random.normal(0,100,100)\n",
        "Ytrain_1 = Xtrain_1 + noise\n",
        "Ytrain_1 = Ytrain_1.reshape(-1,1)\n",
        "# Test\n",
        "Xtest_1 = np.linspace(0, 1000, 40).reshape(-1,1)\n",
        "# Predict\n",
        "w = linear_regression_fit(Xtrain_1,Ytrain_1)\n",
        "yhat_1 = linear_regression_predict(Xtest_1, w)\n",
        "# Plot\n",
        "plt.figure()\n",
        "plt.scatter(Xtrain_1, Ytrain_1, label=\"original\")\n",
        "plt.scatter(Xtest_1, yhat_1, label=\"predicted\")\n",
        "plt.legend()"
      ],
      "execution_count": 0,
      "outputs": [
        {
          "output_type": "execute_result",
          "data": {
            "text/plain": [
              "<matplotlib.legend.Legend at 0x7f00cd7db2b0>"
            ]
          },
          "metadata": {
            "tags": []
          },
          "execution_count": 3
        },
        {
          "output_type": "display_data",
          "data": {
            "image/png": "[encoded data removed]",
            "text/plain": [
              "<Figure size 432x288 with 1 Axes>"
            ]
          },
          "metadata": {
            "tags": []
          }
        }
      ]
    }
  ]
}